{
 "cells": [
  {
   "cell_type": "markdown",
   "metadata": {},
   "source": [
    "# Informações úteis resgatadas:\n",
    "\n",
    "+ [Python Raiz: flatten lists](https://stackoverflow.com/questions/952914/how-to-make-a-flat-list-out-of-list-of-lists)\n",
    "+ Numpy: encontrar linha mais próxima de uma matriz dado o input\n",
    "    + [Matching a row](https://stackoverflow.com/questions/40382384/finding-a-matching-row-in-a-numpy-matrix)\n",
    "    + [Matching a row 2](https://stackoverflow.com/questions/25823608/find-matching-rows-in-2-dimensional-numpy-array)\n",
    "    + [Matching a row 3](https://stackoverflow.com/questions/18927475/numpy-array-get-row-index-searching-by-a-row)\n",
    "    + [Nearest value that is greater](https://stackoverflow.com/questions/17118350/how-to-find-nearest-value-that-is-greater-in-numpy-array)\n",
    "    + [Finding elements approx equal - prelim](https://stackoverflow.com/questions/2566412/find-nearest-value-in-numpy-array)\n",
    "    + [Finding elements approx equal - isclose](https://stackoverflow.com/questions/49191460/numpy-check-where-elements-of-two-arrays-are-approximately-equal)\n",
    "    + [Sorting arrays](https://stackoverflow.com/questions/2828059/sorting-arrays-in-numpy-by-column)\n",
    "\n",
    "+ Numba:\n",
    " + [Pass function as argument](https://stackoverflow.com/questions/59573365/using-a-function-object-as-an-argument-for-numba-njit-function)\n",
    " \n",
    " \n",
    "\n",
    "## Utilidades:\n",
    "+ O Numba não aceita o np.isclose, o que foi um problema. Tive de alterar o programa de localização de parâmetro de arco s comparando o ponto de colisão com um ponto na matriz de parametrização numérica. As modificações essenciais foram:\n",
    " * Seja all_points a matriz de colunas x,y (pontos de fato da parametrização), com data_in uma matriz de três colunas da parametrização: x,y,s.\n",
    " * Como não pude usar np.isclose, tirei np.abs(all_points - r_comparação). Depois disso, como quero a linha da matriz \n",
    "   all_points que melhor se aproxime de r_comparação, precisei tirar o np.linalg.norm no eixo 1 (restando apenas uma matriz coluna onde cada elemento é a distância de um ponto da parametrização numérica ao dado ponto r_comparação, que é o ponto de colisão)\n",
    " * Em seguida, foi suficiente extrair o i = argmin(), o índice da linha tal que o (x,y) dessa linha tivesse a menor distância ao ponto de colisão. Esse índice é tal que ``data_in[i,:]`` fornece (x_localizado, y_localizado, s)."
   ]
  },
  {
   "cell_type": "code",
   "execution_count": 2,
   "metadata": {},
   "outputs": [],
   "source": [
    "import numpy as np\n",
    "import matplotlib.pyplot as plt\n",
    "import numba\n",
    "import scipy.optimize\n",
    "import os\n",
    "plt.rc('font', family='serif', size=12)"
   ]
  },
  {
   "cell_type": "code",
   "execution_count": 3,
   "metadata": {},
   "outputs": [],
   "source": [
    "@numba.njit('f8(f8[:],f8[:,:])')\n",
    "def mapeia_arco(r,data_in):\n",
    "    '''\n",
    "    Entrada:\n",
    "        data_in é um array de 5 colunas (x,y,vx,vy,t) proveniente de uma parametrização numérica.\n",
    "        r é um vetor de 2 elementos (flat array)\n",
    "    \n",
    "    Saída:\n",
    "        s: parâmetro de arco no dado ponto de colisão r\n",
    "    \n",
    "    '''\n",
    "    # Basta calcular a distância do ponto de colisão r a todos os pontos (x,y) presentes na parametrização numérica.\n",
    "#     Exemplo: data_in = [[1,1],\n",
    "#                         [1,-1],\n",
    "#                         [-1,1],\n",
    "#                         [-1,-1]]\n",
    "    # Se r = [1,-1], teremos data_in-r =\n",
    "#                         [[0,2],\n",
    "#                         [0,0],\n",
    "#                         [-2,2],\n",
    "#                         [-2,0]]    \n",
    "    # De imediato, vemos que a linha 2 de data_in é que melhor se aproxima de r. O procedimento geral é o seguinte:\n",
    "    # tomamos data_in-r e então calculamos a norma de cada linha. A linha que tiver a menor norma certamente é a que melhor\n",
    "    # representa o ponto r. Extrai-se o índice dessa linha com np.argmin.\n",
    "    \n",
    "    dist_prelim = data_in[:,:2]-r\n",
    "    dist_abs = np.sqrt(dist_prelim[:,0]**2 + dist_prelim[:,1]**2)\n",
    "    melhor_ind = dist_abs.argmin()\n",
    "    \n",
    "    s = data_in[melhor_ind, 4] #extrai o tempo t de parametrização\n",
    "    return s/data_in[-1,4] # Retorna s normalizado entre 0 e 1\n",
    "    \n",
    "    "
   ]
  },
  {
   "cell_type": "code",
   "execution_count": 4,
   "metadata": {},
   "outputs": [],
   "source": [
    "@numba.njit('Tuple((b1,f8))(f8[:],f8,f8,f8)')\n",
    "def verifica(r,a,b,eps):\n",
    "    \"\"\"\n",
    "    Função que averigua se extrapolou a região útil da função.\n",
    "    Entrada:\n",
    "        r (float64[:]): o vetor posição no dado ponto\n",
    "        a (float64): semieixo maior\n",
    "        b (float64): semieixo menor\n",
    "        eps (float64)\n",
    "    Saída:\n",
    "        bool (True ou False): True se ultrapassar, False do contrário.\n",
    "        err (float64): Erro absoluto cometido\n",
    "    \"\"\"\n",
    "    \n",
    "    x,y = r\n",
    "    err = ((x/a)**2 + (y/b)**2) - 1 + eps*np.sin(x)\n",
    "    \n",
    "    if err > 0:\n",
    "        return True, np.abs(err)\n",
    "    else:\n",
    "        return False, np.abs(err)\n",
    "    "
   ]
  },
  {
   "cell_type": "code",
   "execution_count": 5,
   "metadata": {},
   "outputs": [],
   "source": [
    "@numba.njit('Tuple((f8[:],f8))(f8[:],f8[:],f8,f8,f8,f8)')\n",
    "def corrigir(r_antes,v_antes, a, b, dt, eps):\n",
    "    \"\"\"\n",
    "    Função que corrige a posição da colisão.\n",
    "    \n",
    "    Variveis internas:\n",
    "        prec: precisão (10^-6)\n",
    "    \n",
    "    Entrada: \n",
    "        r_antes(float64[:]): posição inicial mais próxima da colisão\n",
    "        v_antes(float64[:]): velocidade antes da colisão\n",
    "        a(float64): semieixo maior\n",
    "        b(float64): semieixo menor\n",
    "        dt(float64): passo de integração\n",
    "        eps(float64)\n",
    "    \n",
    "    Saída:\n",
    "        r_colisão(float64[:]): vetor posição da colisão\n",
    "        error(float64): erro cometido na localização do ponto de colisão\n",
    "    \"\"\"\n",
    "    \n",
    "    prec = 1e-8\n",
    "    #print('prec =',prec)\n",
    "    while True:\n",
    "        dt = dt/10\n",
    "        \n",
    "        extrapolado, erro_antes = verifica(r_antes,a,b,eps)\n",
    "        \n",
    "        while True:\n",
    "            r_novo = r_antes + v_antes*dt\n",
    "            extrapolado,erro_novo = verifica(r_novo,a,b,eps)\n",
    "            \n",
    "            if extrapolado==True:\n",
    "                break\n",
    "            \n",
    "            r_antes = r_novo\n",
    "            erro_antes = erro_novo\n",
    "            \n",
    "            \n",
    "        r_colisao = r_antes\n",
    "        error = erro_antes\n",
    "        \n",
    "        if error < prec:\n",
    "            #print(error)\n",
    "            break\n",
    "            \n",
    "    return r_colisao, error"
   ]
  },
  {
   "cell_type": "code",
   "execution_count": 6,
   "metadata": {},
   "outputs": [],
   "source": [
    "@numba.njit('f8[:](f8[:],f8[:],f8,f8,f8)')\n",
    "def vel_refletida(r_col, v_antes,a ,b, eps):\n",
    "    \"\"\"\n",
    "    Função que calcula a velocidade após uma reflexão especular.\n",
    "    \n",
    "    Entrada: r_col (float64[:])\n",
    "             v_antes (float64[:])\n",
    "             a (float64)\n",
    "             b (float64)\n",
    "             eps (float64)\n",
    "    \n",
    "    Saída:   v (float64[:])\n",
    "    \"\"\"\n",
    "    x,y = r_col\n",
    "    nabla = np.array([2*x/a**2 +eps*np.cos(x), 2*y/b**2])\n",
    "    \n",
    "    normal = nabla/np.linalg.norm(nabla)\n",
    "    paralelo = np.array([-normal[1], normal[0]])\n",
    "    \n",
    "#     v_refletida = -(np.dot(v_antes, normal) * normal) + (np.dot(v_antes, paralelo)) * paralelo\n",
    "    v_refletida = - (v_antes*normal).sum() * normal + ((v_antes* paralelo).sum()) * paralelo\n",
    "    \n",
    "    return v_refletida"
   ]
  },
  {
   "cell_type": "code",
   "execution_count": 7,
   "metadata": {},
   "outputs": [],
   "source": [
    "@numba.njit('f8[:](f8[:],f8,f8,f8)')\n",
    "def par_vec(r,a,b,eps):\n",
    "    x,y = r\n",
    "    u = np.array([-2*y/b**2, 2*x/a**2 + eps*np.cos(x)])\n",
    "    u = u/np.linalg.norm(u)\n",
    "    return u"
   ]
  },
  {
   "cell_type": "code",
   "execution_count": 8,
   "metadata": {},
   "outputs": [],
   "source": [
    "@numba.njit()\n",
    "def numeric_parameterization(r0,dt,a,b, eps):\n",
    "    \n",
    "    \"\"\"\n",
    "    Entrada:\n",
    "        r0: f8[:]\n",
    "        dt: f8\n",
    "        a: f8\n",
    "        b: f8\n",
    "        eps: f8\n",
    "    \n",
    "    Saída:\n",
    "        full_parameterization: array python->np f8[:,:] (5 colunas)\n",
    "    \n",
    "    \n",
    "    \"\"\"\n",
    "    \n",
    "    \n",
    "    full_parameterization = []\n",
    "    \n",
    "    t=0\n",
    "    r = r0\n",
    "\n",
    "    while True:\n",
    "        r_anterior = r\n",
    "        u = par_vec(r,a,b,eps)\n",
    "        x,y = r\n",
    "        ux,uy = u\n",
    "        param_row = [x,y,ux,uy,t]\n",
    "        full_parameterization.append(param_row)\n",
    "        \n",
    "        r = r+u*dt\n",
    "        t = t+dt\n",
    "        \n",
    "        # Verificação para conclusão da curva fechada:\n",
    "        if t/dt > 100:\n",
    "            if np.linalg.norm(np.abs(r-r0)) < 1e-3:\n",
    "                break\n",
    "            else:\n",
    "                if t/dt > 1e6:\n",
    "                    break\n",
    "    return np.array(full_parameterization)\n",
    "        \n",
    "        "
   ]
  },
  {
   "cell_type": "code",
   "execution_count": 9,
   "metadata": {},
   "outputs": [],
   "source": [
    "@numba.njit('Tuple((f8[:,:],f8[:,:]))(i8,f8,f8[:],f8[:],f8,f8,f8,f8[:,:])')\n",
    "def simula(Ncol,dt,v0,r0,a,b,eps, param_data):\n",
    "    \n",
    "    \"\"\"\n",
    "    Entrada:\n",
    "        Ncol: i8\n",
    "        dt:   f8\n",
    "        v0:   f8[:]\n",
    "        r0:   f8[:]\n",
    "        a:    f8\n",
    "        b:    f8\n",
    "        param_data: f8[:,:] (3 colunas: x,y,s)\n",
    "    \n",
    "    Saída:\n",
    "        pos_vel: f8[:,:]\n",
    "        fase: f8[:,:]\n",
    "    \"\"\"\n",
    "    \n",
    "    pos_vel = []\n",
    "    fase = []\n",
    "    r_a = r0\n",
    "    v = v0\n",
    "    t = 0.\n",
    "    cols=0\n",
    "    \n",
    "#     List comprehension e \"flattening\":\n",
    "#         Sejam a = [1,2], b = [3,4] e c = [5]. O objetivo é gerar d = [1,2,3,4,5], ou seja, dar um\n",
    "#         flatten geral em [a,b,c] = [[1,2], [3,4], [5]]. Em loops explícitos, isso é bem simples:\n",
    "            \n",
    "#             lista = []\n",
    "#             for x in (a,b,c):\n",
    "#                 for y in x:\n",
    "#                     lista.append(y)\n",
    "        \n",
    "#         Convertendo para list comprehension:\n",
    "            \n",
    "#             [y for x in (a,b,c) for y in x]\n",
    "    \n",
    "    xt,yt = r_a\n",
    "    vxt,vyt = v\n",
    "    temp_array = [xt,yt,vxt,vyt,t]\n",
    "    pos_vel.append(temp_array)\n",
    "    \n",
    "    while True:\n",
    "        \n",
    "        t = t+dt\n",
    "        r = r_a + v*dt\n",
    "        \n",
    "        explodiu, _ = verifica(r,a,b,eps)\n",
    "        if explodiu:\n",
    "            r, _ = corrigir(r_a, v, a, b, dt, eps)\n",
    "            v = vel_refletida(r,v,a,b,eps)\n",
    "            u = par_vec(r,a,b, eps)\n",
    "            p = (v*u).sum()/np.linalg.norm(v)\n",
    "            s = mapeia_arco(r, param_data)\n",
    "            \n",
    "            fase.append([s,p])\n",
    "            \n",
    "            cols+=1\n",
    "            if cols>= Ncol:\n",
    "                break\n",
    "        \n",
    "        \n",
    "        xt,yt = r\n",
    "        vxt,vyt = v\n",
    "        temp_array = [xt,yt,vxt,vyt,t]\n",
    "        pos_vel.append(temp_array)\n",
    "\n",
    "        \n",
    "        r_a = r\n",
    "    \n",
    "    return np.array(pos_vel), np.array(fase)\n",
    "    "
   ]
  },
  {
   "cell_type": "code",
   "execution_count": 10,
   "metadata": {},
   "outputs": [],
   "source": [
    "def calcula_raio(N):\n",
    "    assert N>4\n",
    "    return np.cos(2*np.pi/N)"
   ]
  },
  {
   "cell_type": "code",
   "execution_count": null,
   "metadata": {},
   "outputs": [],
   "source": []
  },
  {
   "cell_type": "code",
   "execution_count": null,
   "metadata": {},
   "outputs": [],
   "source": []
  },
  {
   "cell_type": "code",
   "execution_count": null,
   "metadata": {},
   "outputs": [],
   "source": []
  },
  {
   "cell_type": "code",
   "execution_count": null,
   "metadata": {},
   "outputs": [],
   "source": []
  },
  {
   "cell_type": "code",
   "execution_count": null,
   "metadata": {},
   "outputs": [],
   "source": []
  },
  {
   "cell_type": "code",
   "execution_count": null,
   "metadata": {},
   "outputs": [],
   "source": []
  },
  {
   "cell_type": "code",
   "execution_count": null,
   "metadata": {},
   "outputs": [],
   "source": []
  },
  {
   "cell_type": "code",
   "execution_count": 55,
   "metadata": {},
   "outputs": [
    {
     "name": "stdout",
     "output_type": "stream",
     "text": [
      "0.7987209453715995\n",
      "Wall time: 201 ms\n",
      "Wall time: 202 ms\n"
     ]
    }
   ],
   "source": [
    "%%time\n",
    "\n",
    "# OBSERVAÇÃO IMPORTANTE:\n",
    "#     Respeite as tipagens do numba (use a = 1. ao invés de a = 1). Não use int32 quando se exige float64, por exemplo\n",
    "a = 1.5\n",
    "b = 1.3\n",
    "eps = 1\n",
    "\n",
    "\n",
    "def f(x,y,a,b):\n",
    "    return x**2/a**2+y**2/b**2-1+eps*np.sin(x)\n",
    "# root é uma função que retorna um dicionário. Use o método get() para recuperar\n",
    "# os valores das chaves de interesse (\"x\" e \"success\")\n",
    "\n",
    "x_max = scipy.optimize.root(f,a,args=(0,a,b)).x[0]\n",
    "print(x_max)\n",
    "r0 = np.array([x_max, 0.])\n",
    "dt = 1e-4\n",
    "%time full_param = numeric_parameterization(r0,dt,a,b,eps)\n",
    "\n",
    "# # Nota: o que mais toma tempo aqui é o processo de salvar os dados em um documento .dat\n",
    "# %time np.savetxt('./curve_data/num_param.dat',full_param)"
   ]
  },
  {
   "cell_type": "code",
   "execution_count": 56,
   "metadata": {},
   "outputs": [],
   "source": [
    "def c(a,b):\n",
    "    return np.sqrt(a**2-b**2)"
   ]
  },
  {
   "cell_type": "code",
   "execution_count": 57,
   "metadata": {},
   "outputs": [
    {
     "name": "stdout",
     "output_type": "stream",
     "text": [
      "Wall time: 149 ms\n"
     ]
    }
   ],
   "source": [
    "%%time\n",
    "# a = 1.\n",
    "# b = 1.\n",
    "r0 = np.array([0.2, 0])\n",
    "v0 = np.array([0, 1.])\n",
    "dt = 1e-3\n",
    "Tsim = 100\n",
    "pos_vel, fase = simula(Tsim,dt,v0,r0,a,b,eps, full_param)"
   ]
  },
  {
   "cell_type": "code",
   "execution_count": null,
   "metadata": {},
   "outputs": [],
   "source": []
  },
  {
   "cell_type": "code",
   "execution_count": null,
   "metadata": {},
   "outputs": [],
   "source": []
  },
  {
   "cell_type": "code",
   "execution_count": 24,
   "metadata": {},
   "outputs": [],
   "source": [
    "def full_sim(a,b,eps,r0):\n",
    "    # Num_Parametr\n",
    "    def f(x,y,a,b):\n",
    "        return x**2/a**2+y**2/b**2-1+eps*np.sin(x)\n",
    "    x_max = scipy.optimize.root(f,a,args=(0,a,b)).x[0]\n",
    "    pos0 = np.array([x_max,0.])\n",
    "    dt=1e-4\n",
    "    full_param = %time numeric_parameterization(pos0,dt,a,b, eps)    \n",
    "    \n",
    "    # Num_Simul.\n",
    "    v0 = np.array([0.,1.])\n",
    "    dt=1e-3\n",
    "    Ncol = 85\n",
    "    pos_vel, fase = %time simula(Ncol,dt,v0,r0,a,b,eps, full_param)\n",
    "    \n",
    "    return full_param, pos_vel, fase\n",
    "    "
   ]
  },
  {
   "cell_type": "code",
   "execution_count": 32,
   "metadata": {},
   "outputs": [],
   "source": [
    "def full_plots(full_param,pos_vel,fase,local,nome,titulos):\n",
    "    path_xy = os.path.join(local,'xy_'+nome) + '.jpg'\n",
    "    path_fase = os.path.join(local,'fase_'+nome) + '.jpg'\n",
    "    \n",
    "    #Plot (x,y):\n",
    "    fig,ax = plt.subplots(figsize=(5,5))\n",
    "    ax.plot(full_param[:,0], full_param[:,1], 'k-')\n",
    "    ax.plot(pos_vel[:,0], pos_vel[:,1], 'r-')\n",
    "    # plt.axis('scaled')\n",
    "    ax.set_aspect('equal', 'box')\n",
    "    ax.set(xlabel=r'$x$ [u.d.]',\n",
    "           ylabel=r'$y$ [u.d.]',\n",
    "           title=titulos[0],\n",
    "           yticks = np.linspace(-1,1,5)\n",
    "          )\n",
    "    fig.tight_layout()\n",
    "    fig.savefig(path_xy,dpi=300)\n",
    "#     plt.show()\n",
    "    plt.close()\n",
    "    \n",
    "    \n",
    "    # Plot (s,p)\n",
    "    fig2,ax2 = plt.subplots(figsize=(5,5))\n",
    "    ax2.plot(fase[:,0], fase[:,1], 'ko')\n",
    "    # plt.axis('scaled')\n",
    "#     ax2.set_aspect('equal', 'box')\n",
    "    ax2.set(xlabel=r'$S$ [em termos de $L$]',\n",
    "            ylabel=r'$p$ [adimensional]',\n",
    "            title=titulos[1],\n",
    "            ylim=(-1,1)\n",
    "          )\n",
    "#     fig2.tight_layout()\n",
    "    fig2.savefig(path_fase,dpi=300)\n",
    "#     plt.show()\n",
    "    plt.close()"
   ]
  },
  {
   "cell_type": "code",
   "execution_count": 36,
   "metadata": {},
   "outputs": [],
   "source": [
    "def simple_plots(full_param,pos_vel, fase):\n",
    "    \n",
    "    #Plot (x,y):\n",
    "    fig,ax = plt.subplots(figsize=(5,5))\n",
    "    ax.plot(full_param[:,0], full_param[:,1], 'k-')\n",
    "    ax.plot(pos_vel[:,0], pos_vel[:,1], 'r-')\n",
    "    # plt.axis('scaled')\n",
    "    ax.set_aspect('equal', 'box')\n",
    "    ax.set(xlabel=r'$x$ [u.d.]',\n",
    "           ylabel=r'$y$ [u.d.]',\n",
    "           title=r'Plot $(x,y)$',\n",
    "           yticks = np.linspace(-1,1,5)\n",
    "          )\n",
    "    fig.tight_layout()\n",
    "    plt.show()\n",
    "    \n",
    "    \n",
    "    # Plot (s,p)\n",
    "    fig2,ax2 = plt.subplots(figsize=(5,5))\n",
    "    ax2.plot(fase[:,0], fase[:,1], 'ko')\n",
    "    # plt.axis('scaled')\n",
    "#     ax2.set_aspect('equal', 'box')\n",
    "    ax2.set(xlabel=r'$S$ [em termos de $L$]',\n",
    "            ylabel=r'$p$ [adimensional]',\n",
    "            title=r'Seção de Poincaré $(s,p)$',\n",
    "            ylim=(-1,1)\n",
    "          )\n",
    "#     fig2.tight_layout()\n",
    "    plt.show()"
   ]
  },
  {
   "cell_type": "code",
   "execution_count": null,
   "metadata": {},
   "outputs": [],
   "source": []
  },
  {
   "cell_type": "code",
   "execution_count": 55,
   "metadata": {},
   "outputs": [
    {
     "name": "stdout",
     "output_type": "stream",
     "text": [
      "Wall time: 230 ms\n",
      "Wall time: 329 ms\n"
     ]
    },
    {
     "data": {
      "image/png": "[encoded data removed]",
      "text/plain": [
       "<Figure size 360x360 with 1 Axes>"
      ]
     },
     "metadata": {
      "needs_background": "light"
     },
     "output_type": "display_data"
    },
    {
     "data": {
      "image/png": "[encoded data removed]",
      "text/plain": [
       "<Figure size 360x360 with 1 Axes>"
      ]
     },
     "metadata": {
      "needs_background": "light"
     },
     "output_type": "display_data"
    }
   ],
   "source": [
    "a=1.5\n",
    "b=1.3\n",
    "eps=2\n",
    "x0=0.2\n",
    "\n",
    "full_param,pos_vel,fase = full_sim(a,b,eps,np.array([x0,0.]))\n",
    "simple_plots(full_param,pos_vel,fase)\n",
    "# full_plots(full_param, pos_vel, fase,\n",
    "#            'pres_img/graf_eps',\n",
    "#            'eps_{:.3f}'.format(eps),\n",
    "#            [r'Posição no plano $(x,y)$, $\\epsilon$ = {:.3f}'.format(eps),\n",
    "#            r'Seção de Poincaré $(S,p)$, $\\epsilon$ = {:.3f}'.format(eps)])"
   ]
  },
  {
   "cell_type": "code",
   "execution_count": null,
   "metadata": {},
   "outputs": [],
   "source": []
  },
  {
   "cell_type": "code",
   "execution_count": null,
   "metadata": {},
   "outputs": [],
   "source": []
  },
  {
   "cell_type": "code",
   "execution_count": null,
   "metadata": {},
   "outputs": [],
   "source": []
  },
  {
   "cell_type": "code",
   "execution_count": null,
   "metadata": {},
   "outputs": [],
   "source": []
  },
  {
   "cell_type": "code",
   "execution_count": null,
   "metadata": {},
   "outputs": [],
   "source": []
  },
  {
   "cell_type": "code",
   "execution_count": null,
   "metadata": {},
   "outputs": [],
   "source": []
  },
  {
   "cell_type": "markdown",
   "metadata": {},
   "source": [
    "# Gráfico no espaço de fase $(s,p)$"
   ]
  },
  {
   "cell_type": "code",
   "execution_count": 60,
   "metadata": {},
   "outputs": [
    {
     "name": "stdout",
     "output_type": "stream",
     "text": [
      "Wall time: 140 ms\n",
      "Wall time: 135 ms\n",
      "Wall time: 123 ms\n",
      "Wall time: 159 ms\n",
      "Wall time: 137 ms\n",
      "Wall time: 129 ms\n",
      "Wall time: 131 ms\n",
      "Wall time: 128 ms\n",
      "Wall time: 126 ms\n",
      "Wall time: 135 ms\n",
      "Wall time: 122 ms\n",
      "Wall time: 131 ms\n",
      "Wall time: 122 ms\n",
      "Wall time: 145 ms\n",
      "Wall time: 140 ms\n",
      "Wall time: 118 ms\n",
      "Wall time: 146 ms\n",
      "Wall time: 156 ms\n",
      "Wall time: 240 ms\n",
      "Wall time: 284 ms\n",
      "Wall time: 318 ms\n",
      "Wall time: 299 ms\n",
      "Wall time: 350 ms\n",
      "Wall time: 289 ms\n",
      "Wall time: 314 ms\n",
      "Wall time: 320 ms\n",
      "Wall time: 354 ms\n",
      "Wall time: 328 ms\n",
      "Wall time: 302 ms\n",
      "Wall time: 297 ms\n",
      "Wall time: 134 ms\n",
      "Wall time: 133 ms\n",
      "Wall time: 128 ms\n",
      "Wall time: 158 ms\n",
      "Wall time: 170 ms\n",
      "Wall time: 136 ms\n",
      "Wall time: 133 ms\n",
      "Wall time: 139 ms\n",
      "Wall time: 138 ms\n",
      "Wall time: 151 ms\n"
     ]
    },
    {
     "data": {
      "image/png": "[encoded data removed]",
      "text/plain": [
       "<Figure size 432x288 with 1 Axes>"
      ]
     },
     "metadata": {
      "needs_background": "light"
     },
     "output_type": "display_data"
    },
    {
     "name": "stdout",
     "output_type": "stream",
     "text": [
      "Wall time: 8.19 s\n"
     ]
    }
   ],
   "source": [
    "%%time\n",
    "\n",
    "xsep = c(a,b)\n",
    "\n",
    "fig, ax = plt.subplots();\n",
    "for x0 in np.linspace(-x_max,0.9*x_max,20):\n",
    "    r0 = np.array([x0, 0.])\n",
    "    v0 = np.array([0., 1.])\n",
    "    dt = 1e-3\n",
    "    Tsim = 100\n",
    "    %time pos_vel, fase = simula(Tsim,dt,v0,r0,a,b,eps, full_param)\n",
    "    ax.plot(fase[:,0], fase[:,1],'ko');\n",
    "\n",
    "for x0 in np.linspace(xsep-0.0001,xsep+0.0001,10):\n",
    "    r0 = np.array([x0, 0])\n",
    "    v0 = np.array([0., 1.])\n",
    "    dt = 1e-3\n",
    "    Tsim = 100\n",
    "    %time pos_vel, fase = simula(Tsim,dt,v0,r0,a,b,eps, full_param)\n",
    "    ax.plot(fase[:,0], fase[:,1],'ro');\n",
    "\n",
    "for x0 in np.linspace(-xsep-0.0001,-xsep+0.0001,10):\n",
    "    r0 = np.array([x0, 0])\n",
    "    v0 = np.array([0., 1.])\n",
    "    dt = 1e-3\n",
    "    Tsim = 100\n",
    "    %time pos_vel, fase = simula(Tsim,dt,v0,r0,a,b,eps, full_param)\n",
    "    ax.plot(fase[:,0], fase[:,1],'ro');\n",
    "\n",
    "ax.grid(False)\n",
    "ax.set(ylim=(-1,1),\n",
    "       xlabel=r'$s \\ [em \\ termos \\ de \\ L]$',\n",
    "       ylabel=r'$p \\ [adimensional]$',\n",
    "       title=r'Espaço de fase: $a={}$, $b = {}$, $\\epsilon = {}$'.format(a,b,eps))\n",
    "plt.show()\n",
    "fig.savefig('./imagens/bilhar_eps={}.jpg'.format(eps), dpi=300)"
   ]
  },
  {
   "cell_type": "code",
   "execution_count": null,
   "metadata": {},
   "outputs": [],
   "source": []
  }
 ],
 "metadata": {
  "kernelspec": {
   "display_name": "Python 3 (ipykernel)",
   "language": "python",
   "name": "python3"
  },
  "language_info": {
   "codemirror_mode": {
    "name": "ipython",
    "version": 3
   },
   "file_extension": ".py",
   "mimetype": "text/x-python",
   "name": "python",
   "nbconvert_exporter": "python",
   "pygments_lexer": "ipython3",
   "version": "3.9.12"
  }
 },
 "nbformat": 4,
 "nbformat_minor": 4
}
